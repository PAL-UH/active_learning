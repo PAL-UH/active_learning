{
 "cells": [
  {
   "cell_type": "code",
   "execution_count": 1,
   "metadata": {
    "collapsed": true
   },
   "outputs": [],
   "source": [
    "import matplotlib.pyplot as plt\n",
    "import pandas as pd\n",
    "import numpy as np\n",
    "import cv2\n",
    "from scipy import ndimage\n",
    "from sklearn.datasets import make_gaussian_quantiles, make_moons, make_circles, make_blobs\n",
    "from sklearn.ensemble import AdaBoostClassifier\n",
    "from sklearn.naive_bayes import GaussianNB\n",
    "from sklearn.svm import SVC, LinearSVC\n",
    "from sklearn.model_selection import train_test_split\n",
    "import modules.complexity_estimator as ce\n",
    "import modules.util as u\n",
    "from modules.oracle import Oracle\n",
    "from nd_boundary_plot.plots import nd_boundary_plot\n",
    "\n",
    "\n",
    "################################################################################################33\n",
    "#scatter plot of a dataset helper\n",
    "#\n",
    "def plot_ds(grid_size, loc, X, y, xx, yy, title, seeds=None, colspan=1, rowspan=1):\n",
    "\n",
    "    ax = plt.subplot2grid(grid_size, loc, rowspan=rowspan, colspan=colspan)\n",
    "\n",
    "    ax.set_title(title)\n",
    "    # Plot also the training points\n",
    "    ax.scatter(X[:, 0],X[:, 1], c=y)\n",
    "    # and seeds\n",
    "    if seeds is not None:\n",
    "        ax.scatter(X[seeds, 0], X[seeds, 1],\n",
    "                   alpha=1.0, facecolors='magenta')\n",
    "    ax.set_xlim(xx.min(), xx.max())\n",
    "    ax.set_ylim(yy.min(), yy.max())\n",
    "    ax.set_xticks(())\n",
    "    ax.set_yticks(())\n",
    "\n",
    "#perform active learning\n",
    "#\n",
    "def active(classifiers, datasets, experiments, quota=25, plot_every_n=5):\n",
    "    # USE THIS INSTEAD OF YTGT WHICH WE PRETEND TO NOT KNOW\n",
    "\n",
    "    for dsix, ((X_src, y_src), (X_tgt, y_tgt)) in enumerate(datasets):\n",
    "        u_tgt = [None] * len(X_tgt)\n",
    "        est_src = ce.ComplexityEstimator(X_src, y_src)\n",
    "        est_tgt = ce.ComplexityEstimator(X_tgt, y_tgt)\n",
    "        # declare Dataset instance, X is the feature, y is the label (None if unlabeled)\n",
    "        X = np.vstack((X_src, X_tgt))\n",
    "\n",
    "        h = .05  # step size in the mesh\n",
    "        x_min, x_max = X[:, 0].min() - .5, X[:, 0].max() + .5\n",
    "        y_min, y_max = X[:, 1].min() - .5, X[:, 1].max() + .5\n",
    "        xx, yy = np.meshgrid(np.arange(x_min, x_max, h), np.arange(y_min, y_max, h))\n",
    "        figure = plt.figure(figsize=(27, 13))\n",
    "\n",
    "        grid_size = (1+len(classifiers), 6)\n",
    "        for n, classifier in enumerate(classifiers):\n",
    "            model = classifier\n",
    "            oracle = Oracle(X_tgt, y_tgt)\n",
    "            # plot src\n",
    "            plot_ds(grid_size, (0, 0), X_src, y_src, xx, yy, 'Src', est_src.seeds)\n",
    "            ax = plt.subplot2grid(grid_size, (0,1), colspan=2)\n",
    "            ax.set_title('Src complexity')\n",
    "            Ks, Es = est_src.get_k_complexity()\n",
    "            ax.plot(Ks, Es)\n",
    "            #plt tgt\n",
    "            plot_ds(grid_size, (0, 3), X_tgt, y_tgt, xx, yy, 'Tgt', est_tgt.seeds)\n",
    "            ax = plt.subplot2grid(grid_size, (0,4), colspan=2)\n",
    "            Ks, Es = est_tgt.get_k_complexity()\n",
    "            ax.set_title('Tgt complexity')\n",
    "            ax.plot(Ks, Es)\n",
    "            w = 0\n",
    "            X_known = X_src.tolist()\n",
    "            y_known = y_src.tolist()\n",
    "            for i in range(quota):  # loop through the number of queries\n",
    "                loc, y_loc = oracle.random_query()  # let the specified QueryStrategy suggest a data to query\n",
    "                u_tgt[loc] = y_loc\n",
    "                X_known.append(X_tgt[loc])\n",
    "                y_known.append(y_tgt[loc])\n",
    "                if i == 0 or i % plot_every_n == 0 or i == quota - 1:\n",
    "                    model.fit(X_known, y_known)  # train model with newly-updated Dataset\n",
    "                    score = model.score(X_tgt, y_tgt)\n",
    "                    ax = plt.subplot2grid(grid_size, (n + 1, w))\n",
    "                    nd_boundary_plot(X_tgt, model, (x_min, x_max, y_min, y_max), ax)\n",
    "                    if i == 0:\n",
    "                        ax.set_ylabel(u.classname(model))\n",
    "                    if n == 0:\n",
    "                        ax.set_title('# queries=' + str(i))\n",
    "                    ax.set_xlabel('Accuracy='+('%.2f' % score).lstrip('0'))\n",
    "                    w += 1\n",
    "\n",
    "        figure.suptitle(experiments[dsix])\n",
    "        figure.tight_layout()\n",
    "        fname = './vis/' + str(experiments[dsix]) + '.png'\n",
    "        figure.savefig(filename=fname)\n",
    "    plt.show()"
   ]
  },
  {
   "cell_type": "code",
   "execution_count": 9,
   "metadata": {
    "collapsed": true
   },
   "outputs": [],
   "source": [
    "def load_mnist_src_data():\n",
    "    mnist = pd.read_csv('./data/mnist/train_src.csv')\n",
    "    y = mnist.as_matrix(columns=['label'])\n",
    "    X = mnist.drop('label', axis=1).as_matrix()\n",
    "    y = y.flatten()\n",
    "    \n",
    "    X[X > 0] = 1\n",
    "    \n",
    "    rows = 4 \n",
    "    columns = 5\n",
    "    indx = 1\n",
    "    for image in X[:rows*columns]:\n",
    "        img = np.reshape(image, [28, 28])\n",
    "        plt.subplot(rows, columns, indx)\n",
    "        plt.axis('off')\n",
    "        plt.imshow(img)\n",
    "        indx += 1\n",
    "    plt.show()\n",
    "    print(image.shape)\n",
    "    print(img.shape)\n",
    "    print(X.shape, y.shape)\n",
    "    \n",
    "    return X, y"
   ]
  },
  {
   "cell_type": "code",
   "execution_count": 10,
   "metadata": {},
   "outputs": [
    {
     "data": {
      "image/png": "[encoded data removed]",
      "text/plain": [
       "<matplotlib.figure.Figure at 0x114d94898>"
      ]
     },
     "metadata": {},
     "output_type": "display_data"
    },
    {
     "name": "stdout",
     "output_type": "stream",
     "text": [
      "(784,)\n",
      "(28, 28)\n",
      "(42000, 784) (42000,)\n"
     ]
    },
    {
     "data": {
      "text/plain": [
       "(array([[0, 0, 0, ..., 0, 0, 0],\n",
       "        [0, 0, 0, ..., 0, 0, 0],\n",
       "        [0, 0, 0, ..., 0, 0, 0],\n",
       "        ..., \n",
       "        [0, 0, 0, ..., 0, 0, 0],\n",
       "        [0, 0, 0, ..., 0, 0, 0],\n",
       "        [0, 0, 0, ..., 0, 0, 0]]), array([1, 0, 1, ..., 7, 6, 9]))"
      ]
     },
     "execution_count": 10,
     "metadata": {},
     "output_type": "execute_result"
    }
   ],
   "source": [
    "load_mnist_src_data()"
   ]
  },
  {
   "cell_type": "code",
   "execution_count": 11,
   "metadata": {
    "collapsed": true
   },
   "outputs": [],
   "source": [
    "def load_mnist_trgt_data():\n",
    "    mnist_trgt = pd.read_csv('./data/mnist_rotated/train_trgt.csv')\n",
    "    y = mnist_trgt.as_matrix(columns=['label'])\n",
    "    X_norm = mnist_trgt.drop('label', axis=1).as_matrix()\n",
    "    y = y.flatten()\n",
    "    \n",
    "    X_norm[X_norm > 0] = 1\n",
    "    \n",
    "    rows = 42000\n",
    "    columns = 784\n",
    "    indx = 1\n",
    "    X = []\n",
    "    \n",
    "    for image in X_norm[:rows*columns]:\n",
    "        img = np.reshape(image, [28, 28])\n",
    "        rotated = ndimage.rotate(img, 90)\n",
    "        X.append(rotated)\n",
    "        indx += 1\n",
    "        \n",
    "    X = np.array(X).reshape(rows, -1)\n",
    "    mnist_rotated = pd.DataFrame(X)\n",
    "    # mnist_rotated.to_csv('minst_rotated.csv', index=False, header=False)\n",
    "    mnist_rotated = mnist_rotated.as_matrix()\n",
    "    \n",
    "    print(image.shape)\n",
    "    print(img.shape)\n",
    "    print(X.shape, y.shape)\n",
    "    \n",
    "    return mnist_rotated, y"
   ]
  },
  {
   "cell_type": "code",
   "execution_count": 7,
   "metadata": {},
   "outputs": [
    {
     "name": "stdout",
     "output_type": "stream",
     "text": [
      "(784,)\n",
      "(28, 28)\n",
      "(42000, 784) (42000,)\n"
     ]
    },
    {
     "data": {
      "text/plain": [
       "(array([[0, 0, 0, ..., 0, 0, 0],\n",
       "        [0, 0, 0, ..., 0, 0, 0],\n",
       "        [0, 0, 0, ..., 0, 0, 0],\n",
       "        ..., \n",
       "        [0, 0, 0, ..., 0, 0, 0],\n",
       "        [0, 0, 0, ..., 0, 0, 0],\n",
       "        [0, 0, 0, ..., 0, 0, 0]]), array([1, 0, 1, ..., 7, 6, 9]))"
      ]
     },
     "execution_count": 7,
     "metadata": {},
     "output_type": "execute_result"
    }
   ],
   "source": [
    "load_mnist_trgt_data()"
   ]
  },
  {
   "cell_type": "code",
   "execution_count": null,
   "metadata": {
    "scrolled": false
   },
   "outputs": [
    {
     "data": {
      "image/png": "[encoded data removed]",
      "text/plain": [
       "<matplotlib.figure.Figure at 0x126345cf8>"
      ]
     },
     "metadata": {},
     "output_type": "display_data"
    },
    {
     "name": "stdout",
     "output_type": "stream",
     "text": [
      "(784,)\n",
      "(28, 28)\n",
      "(42000, 784) (42000,)\n",
      "(784,)\n",
      "(28, 28)\n",
      "(42000, 784) (42000,)\n"
     ]
    }
   ],
   "source": [
    "clfs = [SVC()]\n",
    "datasets = []\n",
    "experiments = []\n",
    "\n",
    "datasets.append((load_mnist_src_data(), load_mnist_trgt_data()))\n",
    "experiments.append('MNIST_vs_RevMNIST')\n",
    "# datasets.append((u.hastie(500), make_gaussian_quantiles(n_samples=500, n_features=10, n_classes=2)))\n",
    "# experiments.append('hastie_10_2_vs_gauss_quant_10_2')\n",
    "# datasets.append((make_moons(), make_circles()))\n",
    "# experiments.append('moons')\n",
    "# datasets.append((make_blobs(), make_blobs()))\n",
    "# experiments.append('blobs')\n",
    "\n",
    "active(classifiers=clfs, datasets=datasets, experiments=experiments)"
   ]
  }
 ],
 "metadata": {
  "kernelspec": {
   "display_name": "Python 3",
   "language": "python",
   "name": "python3"
  },
  "language_info": {
   "codemirror_mode": {
    "name": "ipython",
    "version": 3
   },
   "file_extension": ".py",
   "mimetype": "text/x-python",
   "name": "python",
   "nbconvert_exporter": "python",
   "pygments_lexer": "ipython3",
   "version": "3.5.2"
  }
 },
 "nbformat": 4,
 "nbformat_minor": 2
}
